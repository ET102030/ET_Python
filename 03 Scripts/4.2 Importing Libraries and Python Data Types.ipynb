{
 "cells": [
  {
   "cell_type": "markdown",
   "id": "d37f8321-4d6a-4314-b375-487cc3f6f889",
   "metadata": {},
   "source": [
    "#Header for importing libraries"
   ]
  },
  {
   "cell_type": "code",
   "execution_count": 1,
   "id": "19b7a3fd-5a53-4c56-a640-efd59b4dda3a",
   "metadata": {},
   "outputs": [],
   "source": [
    "# Import libraries\n",
    "import pandas as pd\n",
    "import numpy as np\n",
    "import os"
   ]
  },
  {
   "cell_type": "markdown",
   "id": "6f9d94aa-8f13-4ac4-b156-eb4bbff30ab5",
   "metadata": {},
   "source": [
    "#Working with python data types"
   ]
  },
  {
   "cell_type": "code",
   "execution_count": 37,
   "id": "947ac7f3-a2ed-4e64-a968-5339fe416902",
   "metadata": {},
   "outputs": [
    {
     "name": "stdout",
     "output_type": "stream",
     "text": [
      "100\n"
     ]
    }
   ],
   "source": [
    "## Code 3 different ways of reaching a result of 100 by adding or subtracting numeric variables\n",
    "\n",
    "x=200\n",
    "y=100\n",
    "print(x-y)"
   ]
  },
  {
   "cell_type": "code",
   "execution_count": 39,
   "id": "e476093d-7920-498f-b31f-32ed8d969034",
   "metadata": {},
   "outputs": [
    {
     "data": {
      "text/plain": [
       "100"
      ]
     },
     "execution_count": 39,
     "metadata": {},
     "output_type": "execute_result"
    }
   ],
   "source": [
    "(2*x)-(3*y)"
   ]
  },
  {
   "cell_type": "code",
   "execution_count": 41,
   "id": "bbe0dead-1186-445f-9734-d02525b0f967",
   "metadata": {},
   "outputs": [
    {
     "name": "stdout",
     "output_type": "stream",
     "text": [
      "100\n"
     ]
    }
   ],
   "source": [
    "x=x-100\n",
    "print(x)"
   ]
  },
  {
   "cell_type": "code",
   "execution_count": 43,
   "id": "936d14c1-da89-439e-988b-bc73ed2d5bde",
   "metadata": {},
   "outputs": [
    {
     "name": "stdout",
     "output_type": "stream",
     "text": [
      "1.0\n"
     ]
    }
   ],
   "source": [
    "##Code 2 floating-point variables and divide them by each other.\n",
    "\n",
    "a=2.1\n",
    "b=1.1\n",
    "print(x/y)"
   ]
  },
  {
   "cell_type": "code",
   "execution_count": 45,
   "id": "19d997f6-7643-4aa3-8d69-897ff8692adb",
   "metadata": {},
   "outputs": [
    {
     "data": {
      "text/plain": [
       "'pineapple'"
      ]
     },
     "execution_count": 45,
     "metadata": {},
     "output_type": "execute_result"
    }
   ],
   "source": [
    "##Construct a short word made of separate strings (you’ll need to concatenate some strings!).\n",
    "\n",
    "a='pine'\n",
    "b='apple'\n",
    "a+b"
   ]
  },
  {
   "cell_type": "code",
   "execution_count": 47,
   "id": "aa9e3aa7-f479-484e-9a72-279502ec8ecf",
   "metadata": {},
   "outputs": [
    {
     "data": {
      "text/plain": [
       "'They was a dog. His name was Fred. '"
      ]
     },
     "execution_count": 47,
     "metadata": {},
     "output_type": "execute_result"
    }
   ],
   "source": [
    "##Construct 2 short sentences made of separate strings.\n",
    "\n",
    "c='They was a dog. '\n",
    "d='His name was Fred. '\n",
    "c+d"
   ]
  },
  {
   "cell_type": "code",
   "execution_count": null,
   "id": "87841e27-0be3-4af8-9969-cbeac352d08e",
   "metadata": {},
   "outputs": [],
   "source": []
  }
 ],
 "metadata": {
  "kernelspec": {
   "display_name": "Python [conda env:base] *",
   "language": "python",
   "name": "conda-base-py"
  },
  "language_info": {
   "codemirror_mode": {
    "name": "ipython",
    "version": 3
   },
   "file_extension": ".py",
   "mimetype": "text/x-python",
   "name": "python",
   "nbconvert_exporter": "python",
   "pygments_lexer": "ipython3",
   "version": "3.12.7"
  }
 },
 "nbformat": 4,
 "nbformat_minor": 5
}
